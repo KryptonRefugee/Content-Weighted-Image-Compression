{
 "cells": [
  {
   "cell_type": "code",
   "execution_count": 1,
   "metadata": {},
   "outputs": [],
   "source": [
    "%load_ext autoreload\n",
    "%autoreload 2\n",
    "\n",
    "%matplotlib inline"
   ]
  },
  {
   "cell_type": "code",
   "execution_count": 2,
   "metadata": {},
   "outputs": [],
   "source": [
    "import torch\n",
    "from torch import tensor"
   ]
  },
  {
   "cell_type": "code",
   "execution_count": 28,
   "metadata": {},
   "outputs": [],
   "source": [
    "class Mask(torch.autograd.Function):\n",
    "    @staticmethod\n",
    "    def forward(ctx,i):\n",
    "        # checking for is_cuda() is\n",
    "        # a hack to work around torch.where\n",
    "        # not knowing which device to put\n",
    "        # the tensors on\n",
    "        if i.is_cuda: \n",
    "            device = torch.device(\"cuda\")\n",
    "        else:\n",
    "            device = torch.device(\"cpu\")\n",
    "        N,_,H,W = i.shape\n",
    "        n = 8\n",
    "        L = 4\n",
    "        qimp = i\n",
    "        mask = torch.zeros(n, N*H*W).to(device)\n",
    "        qimp_flat = qimp.view(1, N*H*W)\n",
    "        for indx in range(n):\n",
    "            mask[indx,:] = torch.where(indx < (n/L)*qimp_flat,torch.Tensor([1]).to(device),torch.Tensor([0]).to(device))\n",
    "        mask = mask.view(n,N,H,W).permute((1,0,2,3))\n",
    "        return mask\n",
    "\n",
    "    @staticmethod\n",
    "    def backward(ctx, grad_output):\n",
    "        N,C,H,W = grad_output.shape\n",
    "        if grad_output.is_cuda: return torch.ones(N,1,H,W).cuda()\n",
    "        else: return torch.ones(N,1,H,W)\n",
    "\n",
    "def generate_mask(x):\n",
    "    return Mask.apply(x)"
   ]
  },
  {
   "cell_type": "code",
   "execution_count": 23,
   "metadata": {},
   "outputs": [],
   "source": [
    "class Quantizer(torch.autograd.Function):\n",
    "    @staticmethod\n",
    "    def forward(ctx, i):\n",
    "        p = i.clone()\n",
    "        L = 4\n",
    "        for l in range(L):\n",
    "            p[(p>=l/L)*(p<(l+1)/L)] = l\n",
    "        return p\n",
    "    @staticmethod\n",
    "    def backward(ctx, grad_output):\n",
    "        return grad_output\n",
    "\n",
    "def quantize_values(x):\n",
    "    return Quantizer.apply(x)"
   ]
  },
  {
   "cell_type": "code",
   "execution_count": 24,
   "metadata": {},
   "outputs": [
    {
     "name": "stdout",
     "output_type": "stream",
     "text": [
      "tensor([[[[0.9232, 0.7170, 0.2459, 0.0291]]]], requires_grad=True)\n"
     ]
    }
   ],
   "source": [
    "imp_map = torch.rand(1,1,1,4,requires_grad=True)\n",
    "print(imp_map)"
   ]
  },
  {
   "cell_type": "code",
   "execution_count": 25,
   "metadata": {},
   "outputs": [
    {
     "name": "stdout",
     "output_type": "stream",
     "text": [
      "tensor([[[[0.9232, 0.7170, 0.2459, 0.0291]]]], requires_grad=True)\n",
      "tensor([[[[3., 2., 0., 0.]]]], grad_fn=<QuantizerBackward>)\n"
     ]
    }
   ],
   "source": [
    "qimp = quantize_values(imp_map)\n",
    "print(imp_map)\n",
    "print(qimp)"
   ]
  },
  {
   "cell_type": "code",
   "execution_count": 26,
   "metadata": {},
   "outputs": [
    {
     "name": "stdout",
     "output_type": "stream",
     "text": [
      "torch.Size([8, 4])\n",
      "tensor([[[[3., 2., 0., 0.]]]], grad_fn=<QuantizerBackward>)\n",
      "tensor([[[[1., 1., 0., 0.]],\n",
      "\n",
      "         [[1., 1., 0., 0.]],\n",
      "\n",
      "         [[1., 1., 0., 0.]],\n",
      "\n",
      "         [[1., 1., 0., 0.]],\n",
      "\n",
      "         [[1., 0., 0., 0.]],\n",
      "\n",
      "         [[1., 0., 0., 0.]],\n",
      "\n",
      "         [[0., 0., 0., 0.]],\n",
      "\n",
      "         [[0., 0., 0., 0.]]]], grad_fn=<MaskBackward>)\n"
     ]
    }
   ],
   "source": [
    "mask = generate_mask(qimp)\n",
    "print(qimp)\n",
    "print(mask)"
   ]
  },
  {
   "cell_type": "code",
   "execution_count": 21,
   "metadata": {},
   "outputs": [
    {
     "data": {
      "text/plain": [
       "(tensor([1., 2., 3., 1.]),\n",
       " tensor([[0., 0., 0., 0.],\n",
       "         [0., 0., 0., 0.],\n",
       "         [0., 0., 0., 0.],\n",
       "         [0., 0., 0., 0.],\n",
       "         [0., 0., 0., 0.],\n",
       "         [0., 0., 0., 0.],\n",
       "         [0., 0., 0., 0.],\n",
       "         [0., 0., 0., 0.]]))"
      ]
     },
     "execution_count": 21,
     "metadata": {},
     "output_type": "execute_result"
    }
   ],
   "source": [
    "a = torch.Tensor([1, 2, 3, 1])\n",
    "z = torch.zeros(8,a.shape[0])\n",
    "a,z"
   ]
  },
  {
   "cell_type": "code",
   "execution_count": 9,
   "metadata": {},
   "outputs": [
    {
     "data": {
      "text/plain": [
       "(tensor([[ 0,  1,  2,  3],\n",
       "         [ 4,  5,  6,  7],\n",
       "         [ 8,  9, 10, 11],\n",
       "         [12, 13, 14, 15],\n",
       "         [16, 17, 18, 19],\n",
       "         [20, 21, 22, 23],\n",
       "         [24, 25, 26, 27],\n",
       "         [28, 29, 30, 31]]),\n",
       " tensor([0, 1, 2, 3]))"
      ]
     },
     "execution_count": 9,
     "metadata": {},
     "output_type": "execute_result"
    }
   ],
   "source": [
    "b = torch.arange(0,32).view(8,(a.shape[0]))\n",
    "b, b[0,:]"
   ]
  },
  {
   "cell_type": "code",
   "execution_count": 10,
   "metadata": {},
   "outputs": [
    {
     "data": {
      "text/plain": [
       "tensor([[1., 1., 1., 1.],\n",
       "        [1., 1., 1., 1.],\n",
       "        [0., 1., 1., 0.],\n",
       "        [0., 1., 1., 0.],\n",
       "        [0., 0., 1., 0.],\n",
       "        [0., 0., 1., 0.],\n",
       "        [0., 0., 0., 0.],\n",
       "        [0., 0., 0., 0.]])"
      ]
     },
     "execution_count": 10,
     "metadata": {},
     "output_type": "execute_result"
    }
   ],
   "source": [
    "for indx in range(8):\n",
    "    z[indx,:] = torch.where((indx<2*a),tensor(1),tensor(0))\n",
    "z"
   ]
  },
  {
   "cell_type": "code",
   "execution_count": 11,
   "metadata": {},
   "outputs": [
    {
     "data": {
      "text/plain": [
       "torch.Size([8, 4])"
      ]
     },
     "execution_count": 11,
     "metadata": {},
     "output_type": "execute_result"
    }
   ],
   "source": [
    "z.shape"
   ]
  },
  {
   "cell_type": "code",
   "execution_count": 12,
   "metadata": {},
   "outputs": [],
   "source": [
    "loss = mask.sum()\n",
    "loss.backward()"
   ]
  },
  {
   "cell_type": "code",
   "execution_count": 13,
   "metadata": {},
   "outputs": [
    {
     "data": {
      "text/plain": [
       "tensor([[[[1., 1., 1., 1.]]]])"
      ]
     },
     "execution_count": 13,
     "metadata": {},
     "output_type": "execute_result"
    }
   ],
   "source": [
    "imp_map.grad"
   ]
  },
  {
   "cell_type": "code",
   "execution_count": 14,
   "metadata": {},
   "outputs": [
    {
     "name": "stdout",
     "output_type": "stream",
     "text": [
      "tensor(0.5358, grad_fn=<SelectBackward>)\n",
      "tensor(2., grad_fn=<SelectBackward>)\n",
      "tensor([1., 1., 1., 1., 0., 0., 0., 0.], grad_fn=<SelectBackward>)\n",
      "tensor(4., grad_fn=<SumBackward0>)\n"
     ]
    }
   ],
   "source": [
    "print(imp_map[0,0,0,1])\n",
    "print(qimp[0,0,0,1])\n",
    "print(mask[0,:,0,1])\n",
    "print(mask[0,:,0,1].sum())"
   ]
  },
  {
   "cell_type": "code",
   "execution_count": 15,
   "metadata": {},
   "outputs": [
    {
     "data": {
      "text/plain": [
       "torch.Size([1, 8, 1, 4])"
      ]
     },
     "execution_count": 15,
     "metadata": {},
     "output_type": "execute_result"
    }
   ],
   "source": [
    "mask.size()"
   ]
  }
 ],
 "metadata": {
  "kernelspec": {
   "display_name": "Python 3",
   "language": "python",
   "name": "python3"
  },
  "language_info": {
   "codemirror_mode": {
    "name": "ipython",
    "version": 3
   },
   "file_extension": ".py",
   "mimetype": "text/x-python",
   "name": "python",
   "nbconvert_exporter": "python",
   "pygments_lexer": "ipython3",
   "version": "3.7.7"
  }
 },
 "nbformat": 4,
 "nbformat_minor": 4
}
