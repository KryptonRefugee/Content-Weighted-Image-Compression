{
 "cells": [
  {
   "cell_type": "code",
   "execution_count": 1,
   "metadata": {},
   "outputs": [],
   "source": [
    "%load_ext autoreload\n",
    "%autoreload 2\n",
    "\n",
    "%matplotlib inline"
   ]
  },
  {
   "cell_type": "code",
   "execution_count": 2,
   "metadata": {},
   "outputs": [],
   "source": [
    "#export\n",
    "from exp.nb_01 import *"
   ]
  },
  {
   "cell_type": "code",
   "execution_count": 3,
   "metadata": {},
   "outputs": [],
   "source": [
    "#export\n",
    "class DepthToSpace(torch.nn.Module):\n",
    "    def __init__(self,block_size):\n",
    "        super().__init__()\n",
    "        self.bs = block_size\n",
    "        \n",
    "    def forward(self, x):\n",
    "        N, C, H, W = x.size()\n",
    "        x = x.view(N, self.bs, self.bs, C // (self.bs ** 2), H, W)\n",
    "        x = x.permute(0, 3, 4, 1, 5, 2).contiguous()\n",
    "        x = x.view(N, C // (self.bs ** 2), H * self.bs, W * self.bs)\n",
    "        return x"
   ]
  },
  {
   "cell_type": "code",
   "execution_count": 4,
   "metadata": {},
   "outputs": [],
   "source": [
    "#export\n",
    "class Decoder(nn.Module):\n",
    "    def __init__(self):\n",
    "        super(Decoder, self).__init__()\n",
    "        self.decoder = nn.Sequential(conv(64,512,1,1,0), relu,\n",
    "                                    ResBlock(512), relu,\n",
    "                                    ResBlock(512), relu,\n",
    "                                    DepthToSpace(2),\n",
    "                                    conv(128,256), relu,\n",
    "                                    ResBlock(256), relu,\n",
    "                                    DepthToSpace(4),\n",
    "                                    conv(16,32), relu,\n",
    "                                    conv(32,3))\n",
    "        \n",
    "    def extra_repr(self):\n",
    "        params = sum(p.numel() for p in self.parameters())\n",
    "        return f'Total Params: {params}'\n",
    "        \n",
    "    def forward(self,x):\n",
    "        return self.decoder(x)"
   ]
  },
  {
   "cell_type": "code",
   "execution_count": 5,
   "metadata": {},
   "outputs": [
    {
     "name": "stdout",
     "output_type": "stream",
     "text": [
      "----------------------------------------------------------------\n",
      "        Layer (type)               Output Shape         Param #\n",
      "================================================================\n",
      "            Conv2d-1          [-1, 512, 16, 16]          33,280\n",
      "              ReLU-2          [-1, 512, 16, 16]               0\n",
      "            Conv2d-3          [-1, 128, 16, 16]         589,952\n",
      "            Conv2d-4          [-1, 512, 16, 16]         590,336\n",
      "          ResBlock-5          [-1, 512, 16, 16]               0\n",
      "              ReLU-6          [-1, 512, 16, 16]               0\n",
      "            Conv2d-7          [-1, 128, 16, 16]         589,952\n",
      "            Conv2d-8          [-1, 512, 16, 16]         590,336\n",
      "          ResBlock-9          [-1, 512, 16, 16]               0\n",
      "             ReLU-10          [-1, 512, 16, 16]               0\n",
      "     DepthToSpace-11          [-1, 128, 32, 32]               0\n",
      "           Conv2d-12          [-1, 256, 32, 32]         295,168\n",
      "             ReLU-13          [-1, 256, 32, 32]               0\n",
      "           Conv2d-14          [-1, 128, 32, 32]         295,040\n",
      "           Conv2d-15          [-1, 256, 32, 32]         295,168\n",
      "         ResBlock-16          [-1, 256, 32, 32]               0\n",
      "             ReLU-17          [-1, 256, 32, 32]               0\n",
      "     DepthToSpace-18         [-1, 16, 128, 128]               0\n",
      "           Conv2d-19         [-1, 32, 128, 128]           4,640\n",
      "             ReLU-20         [-1, 32, 128, 128]               0\n",
      "           Conv2d-21          [-1, 3, 128, 128]             867\n",
      "================================================================\n",
      "Total params: 3,284,739\n",
      "Trainable params: 3,284,739\n",
      "Non-trainable params: 0\n",
      "----------------------------------------------------------------\n",
      "Input size (MB): 0.06\n",
      "Forward/backward pass size (MB): 30.88\n",
      "Params size (MB): 12.53\n",
      "Estimated Total Size (MB): 43.47\n",
      "----------------------------------------------------------------\n"
     ]
    }
   ],
   "source": [
    "dec = Decoder().cuda()\n",
    "from torchsummary import summary\n",
    "summary(dec, (64,16,16))"
   ]
  },
  {
   "cell_type": "code",
   "execution_count": 6,
   "metadata": {},
   "outputs": [
    {
     "data": {
      "text/plain": [
       "Decoder(\n",
       "  Total Params: 3284739\n",
       "  (decoder): Sequential(\n",
       "    (0): Conv2d(64, 512, kernel_size=(1, 1), stride=(1, 1))\n",
       "    (1): ReLU()\n",
       "    (2): ResBlock(\n",
       "      (conv1): Conv2d(512, 128, kernel_size=(3, 3), stride=(1, 1), padding=(1, 1))\n",
       "      (conv2): Conv2d(128, 512, kernel_size=(3, 3), stride=(1, 1), padding=(1, 1))\n",
       "    )\n",
       "    (3): ReLU()\n",
       "    (4): ResBlock(\n",
       "      (conv1): Conv2d(512, 128, kernel_size=(3, 3), stride=(1, 1), padding=(1, 1))\n",
       "      (conv2): Conv2d(128, 512, kernel_size=(3, 3), stride=(1, 1), padding=(1, 1))\n",
       "    )\n",
       "    (5): ReLU()\n",
       "    (6): DepthToSpace()\n",
       "    (7): Conv2d(128, 256, kernel_size=(3, 3), stride=(1, 1), padding=(1, 1))\n",
       "    (8): ReLU()\n",
       "    (9): ResBlock(\n",
       "      (conv1): Conv2d(256, 128, kernel_size=(3, 3), stride=(1, 1), padding=(1, 1))\n",
       "      (conv2): Conv2d(128, 256, kernel_size=(3, 3), stride=(1, 1), padding=(1, 1))\n",
       "    )\n",
       "    (10): ReLU()\n",
       "    (11): DepthToSpace()\n",
       "    (12): Conv2d(16, 32, kernel_size=(3, 3), stride=(1, 1), padding=(1, 1))\n",
       "    (13): ReLU()\n",
       "    (14): Conv2d(32, 3, kernel_size=(3, 3), stride=(1, 1), padding=(1, 1))\n",
       "  )\n",
       ")"
      ]
     },
     "execution_count": 6,
     "metadata": {},
     "output_type": "execute_result"
    }
   ],
   "source": [
    "decoder = Decoder(); decoder"
   ]
  },
  {
   "cell_type": "code",
   "execution_count": 7,
   "metadata": {},
   "outputs": [],
   "source": [
    "torch.where??"
   ]
  },
  {
   "cell_type": "code",
   "execution_count": null,
   "metadata": {},
   "outputs": [],
   "source": []
  },
  {
   "cell_type": "markdown",
   "metadata": {},
   "source": [
    "Entropy Based Layers"
   ]
  },
  {
   "cell_type": "code",
   "execution_count": 8,
   "metadata": {},
   "outputs": [],
   "source": [
    "#export\n",
    "class Quantizer(torch.autograd.Function):\n",
    "    @staticmethod\n",
    "    def forward(ctx, i):\n",
    "        p = i.clone()\n",
    "        L = 16\n",
    "        for l in range(L):\n",
    "            p[(p>=l/L)*(p<(l+1)/L)] = l\n",
    "        return p\n",
    "    @staticmethod\n",
    "    def backward(ctx, grad_output):\n",
    "        return grad_output\n",
    "\n",
    "def quantize_values(x):\n",
    "    return Quantizer.apply(x)"
   ]
  },
  {
   "cell_type": "code",
   "execution_count": 9,
   "metadata": {},
   "outputs": [],
   "source": [
    "#export\n",
    "class Mask(torch.autograd.Function):\n",
    "    @staticmethod\n",
    "    def forward(ctx,i):\n",
    "        # checking for is_cuda() is\n",
    "        # a hack to work around torch.where\n",
    "        # not knowing which device to put\n",
    "        # the tensors on\n",
    "        if i.is_cuda: \n",
    "            device = torch.device(\"cuda\")\n",
    "        else:\n",
    "            device = torch.device(\"cpu\")\n",
    "        N,_,H,W = i.shape\n",
    "        n = 64\n",
    "        L = 16\n",
    "        mask = torch.zeros(n, N*H*W).to(device)\n",
    "        qimp_flat = qimp.view(1, N*H*W)\n",
    "        for indx in range(n):\n",
    "            mask[indx,:] = torch.where(indx < (n/L)*qimp_flat,torch.Tensor([1]).to(device),torch.Tensor([0]).to(device))\n",
    "        mask = mask.view(n,N,H,W).permute((1,0,2,3))\n",
    "        return mask\n",
    "\n",
    "    @staticmethod\n",
    "    def backward(ctx, grad_output):\n",
    "        N,C,H,W = grad_output.shape\n",
    "        if grad_output.is_cuda: return torch.ones(N,1,H,W).cuda()\n",
    "        else: return torch.ones(N,1,H,W)\n",
    "\n",
    "def generate_mask(x):\n",
    "    return Mask.apply(x)"
   ]
  },
  {
   "cell_type": "code",
   "execution_count": 10,
   "metadata": {},
   "outputs": [
    {
     "name": "stdout",
     "output_type": "stream",
     "text": [
      "tensor([[0.6299, 0.1945, 0.6043, 0.6919],\n",
      "        [0.5468, 0.9871, 0.0042, 0.4288],\n",
      "        [0.2492, 0.4456, 0.4644, 0.1328],\n",
      "        [0.5835, 0.0848, 0.6075, 0.4402]], requires_grad=True)\n"
     ]
    }
   ],
   "source": [
    "a = torch.rand(4,4,requires_grad=True)\n",
    "print(a)"
   ]
  },
  {
   "cell_type": "code",
   "execution_count": 11,
   "metadata": {},
   "outputs": [
    {
     "name": "stdout",
     "output_type": "stream",
     "text": [
      "tensor([[0.6299, 0.1945, 0.6043, 0.6919],\n",
      "        [0.5468, 0.9871, 0.0042, 0.4288],\n",
      "        [0.2492, 0.4456, 0.4644, 0.1328],\n",
      "        [0.5835, 0.0848, 0.6075, 0.4402]], requires_grad=True)\n",
      "tensor([[1., 0., 1., 1.],\n",
      "        [1., 1., 0., 0.],\n",
      "        [0., 0., 0., 0.],\n",
      "        [1., 0., 1., 0.]], grad_fn=<BinarizerBackward>)\n"
     ]
    }
   ],
   "source": [
    "b = bin_values(a)\n",
    "print(a)\n",
    "print(b)"
   ]
  },
  {
   "cell_type": "code",
   "execution_count": 12,
   "metadata": {},
   "outputs": [
    {
     "name": "stdout",
     "output_type": "stream",
     "text": [
      "Loss:7.0\n"
     ]
    }
   ],
   "source": [
    "loss = b.sum()\n",
    "print('Loss:{}'.format(loss))"
   ]
  },
  {
   "cell_type": "code",
   "execution_count": 13,
   "metadata": {},
   "outputs": [
    {
     "data": {
      "text/plain": [
       "tensor([[1., 1., 1., 1.],\n",
       "        [1., 1., 1., 1.],\n",
       "        [1., 1., 1., 1.],\n",
       "        [1., 1., 1., 1.]])"
      ]
     },
     "execution_count": 13,
     "metadata": {},
     "output_type": "execute_result"
    }
   ],
   "source": [
    "loss.backward()\n",
    "a.grad"
   ]
  },
  {
   "cell_type": "code",
   "execution_count": 14,
   "metadata": {},
   "outputs": [
    {
     "name": "stdout",
     "output_type": "stream",
     "text": [
      "tensor([[[[0.1982, 0.5915, 0.4897, 0.7062],\n",
      "          [0.4668, 0.7811, 0.8191, 0.5416],\n",
      "          [0.1989, 0.2273, 0.0747, 0.9160],\n",
      "          [0.6714, 0.8860, 0.6340, 0.7865]]]], requires_grad=True)\n"
     ]
    }
   ],
   "source": [
    "imp_map = torch.rand(1,1,4,4,requires_grad=True)\n",
    "print(imp_map)"
   ]
  },
  {
   "cell_type": "code",
   "execution_count": 15,
   "metadata": {},
   "outputs": [
    {
     "name": "stdout",
     "output_type": "stream",
     "text": [
      "tensor([[[[0.1982, 0.5915, 0.4897, 0.7062],\n",
      "          [0.4668, 0.7811, 0.8191, 0.5416],\n",
      "          [0.1989, 0.2273, 0.0747, 0.9160],\n",
      "          [0.6714, 0.8860, 0.6340, 0.7865]]]], requires_grad=True)\n",
      "tensor([[[[ 3.,  9.,  7., 11.],\n",
      "          [ 7., 12., 13.,  8.],\n",
      "          [ 3.,  3.,  1., 14.],\n",
      "          [10., 14., 10., 12.]]]], grad_fn=<QuantizerBackward>)\n"
     ]
    }
   ],
   "source": [
    "qimp = quantize_values(imp_map)\n",
    "print(imp_map)\n",
    "print(qimp)"
   ]
  },
  {
   "cell_type": "code",
   "execution_count": 16,
   "metadata": {},
   "outputs": [
    {
     "name": "stdout",
     "output_type": "stream",
     "text": [
      "tensor([[[[ 3.,  9.,  7., 11.],\n",
      "          [ 7., 12., 13.,  8.],\n",
      "          [ 3.,  3.,  1., 14.],\n",
      "          [10., 14., 10., 12.]]]], grad_fn=<QuantizerBackward>)\n",
      "tensor([[[[1., 1., 1., 1.],\n",
      "          [1., 1., 1., 1.],\n",
      "          [1., 1., 1., 1.],\n",
      "          [1., 1., 1., 1.]],\n",
      "\n",
      "         [[1., 1., 1., 1.],\n",
      "          [1., 1., 1., 1.],\n",
      "          [1., 1., 1., 1.],\n",
      "          [1., 1., 1., 1.]],\n",
      "\n",
      "         [[1., 1., 1., 1.],\n",
      "          [1., 1., 1., 1.],\n",
      "          [1., 1., 1., 1.],\n",
      "          [1., 1., 1., 1.]],\n",
      "\n",
      "         ...,\n",
      "\n",
      "         [[0., 0., 0., 0.],\n",
      "          [0., 0., 0., 0.],\n",
      "          [0., 0., 0., 0.],\n",
      "          [0., 0., 0., 0.]],\n",
      "\n",
      "         [[0., 0., 0., 0.],\n",
      "          [0., 0., 0., 0.],\n",
      "          [0., 0., 0., 0.],\n",
      "          [0., 0., 0., 0.]],\n",
      "\n",
      "         [[0., 0., 0., 0.],\n",
      "          [0., 0., 0., 0.],\n",
      "          [0., 0., 0., 0.],\n",
      "          [0., 0., 0., 0.]]]], grad_fn=<MaskBackward>)\n"
     ]
    }
   ],
   "source": [
    "mask = generate_mask(qimp)\n",
    "print(qimp)\n",
    "print(mask)"
   ]
  },
  {
   "cell_type": "code",
   "execution_count": 17,
   "metadata": {},
   "outputs": [],
   "source": [
    "loss = mask.sum()\n",
    "loss.backward()"
   ]
  },
  {
   "cell_type": "code",
   "execution_count": 18,
   "metadata": {},
   "outputs": [
    {
     "data": {
      "text/plain": [
       "tensor([[[[1., 1., 1., 1.],\n",
       "          [1., 1., 1., 1.],\n",
       "          [1., 1., 1., 1.],\n",
       "          [1., 1., 1., 1.]]]])"
      ]
     },
     "execution_count": 18,
     "metadata": {},
     "output_type": "execute_result"
    }
   ],
   "source": [
    "imp_map.grad"
   ]
  },
  {
   "cell_type": "code",
   "execution_count": 19,
   "metadata": {},
   "outputs": [
    {
     "name": "stdout",
     "output_type": "stream",
     "text": [
      "tensor(0.1982, grad_fn=<SelectBackward>)\n",
      "tensor(3., grad_fn=<SelectBackward>)\n",
      "tensor([1., 1., 1., 1., 1., 1., 1., 1., 1., 1., 1., 1., 0., 0., 0., 0., 0., 0.,\n",
      "        0., 0., 0., 0., 0., 0., 0., 0., 0., 0., 0., 0., 0., 0., 0., 0., 0., 0.,\n",
      "        0., 0., 0., 0., 0., 0., 0., 0., 0., 0., 0., 0., 0., 0., 0., 0., 0., 0.,\n",
      "        0., 0., 0., 0., 0., 0., 0., 0., 0., 0.], grad_fn=<SelectBackward>)\n",
      "tensor(12., grad_fn=<SumBackward0>)\n"
     ]
    }
   ],
   "source": [
    "print(imp_map[0,0,0,0])\n",
    "print(qimp[0,0,0,0])\n",
    "print(mask[0,:,0,0])\n",
    "print(mask[0,:,0,0].sum())"
   ]
  },
  {
   "cell_type": "code",
   "execution_count": 20,
   "metadata": {},
   "outputs": [
    {
     "data": {
      "text/plain": [
       "torch.Size([1, 64, 4, 4])"
      ]
     },
     "execution_count": 20,
     "metadata": {},
     "output_type": "execute_result"
    }
   ],
   "source": [
    "mask.size()"
   ]
  },
  {
   "cell_type": "code",
   "execution_count": 21,
   "metadata": {},
   "outputs": [
    {
     "name": "stdout",
     "output_type": "stream",
     "text": [
      "Converted 02_decoder.ipynb to exp/nb_02.py\r\n"
     ]
    }
   ],
   "source": [
    "!python notebook2script.py 02_decoder.ipynb"
   ]
  },
  {
   "cell_type": "code",
   "execution_count": null,
   "metadata": {},
   "outputs": [],
   "source": []
  }
 ],
 "metadata": {
  "kernelspec": {
   "display_name": "Python 3",
   "language": "python",
   "name": "python3"
  },
  "language_info": {
   "codemirror_mode": {
    "name": "ipython",
    "version": 3
   },
   "file_extension": ".py",
   "mimetype": "text/x-python",
   "name": "python",
   "nbconvert_exporter": "python",
   "pygments_lexer": "ipython3",
   "version": "3.7.7"
  }
 },
 "nbformat": 4,
 "nbformat_minor": 4
}
